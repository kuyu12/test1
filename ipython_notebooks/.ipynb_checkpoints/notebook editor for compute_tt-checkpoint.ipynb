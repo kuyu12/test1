{
  "nbformat": 4,
  "nbformat_minor": 0,
  "metadata": {
    "kernelspec": {
      "display_name": "Python in CPU-M-1-cpu-4Gb-Ram (builtin env)",
      "language": "python",
      "name": "py-dku-containerized-venv--cpu-m-1-cpu-4gb-ram"
    },
    "associatedRecipe": "compute_tt",
    "creator": "yair_hadad@epam.com",
    "createdOn": 1692538118984,
    "tags": [
      "recipe-editor"
    ],
    "customFields": {}
  },
  "cells": [
    {
      "cell_type": "code",
      "metadata": {},
      "outputs": [],
      "execution_count": 0,
      "source": [
        "# -*- coding: utf-8 -*-\n",
        "import dataiku\n",
        "import pandas as pd, numpy as np\n",
        "from dataiku import pandasutils as pdu\n",
        "import simplegit\n",
        "\n",
        "# Read recipe inputs\n",
        "dataset \u003d dataiku.Dataset(\"dataset\")\n",
        "dataset_df \u003d dataset.get_dataframe()\n",
        "\n",
        "\n",
        "# Compute recipe outputs from inputs\n",
        "# TODO: Replace this part by your actual code that computes the output, as a Pandas dataframe\n",
        "# NB: DSS also supports other kinds of APIs for reading and writing data. Please see doc.\n",
        "\n",
        "tt_df \u003d dataset_df # For this sample code, simply copy input to output\n",
        "\n",
        "\n",
        "# Write recipe outputs\n",
        "tt \u003d dataiku.Dataset(\"tt\")\n",
        "tt.write_with_schema(tt_df)"
      ]
    }
  ]
}